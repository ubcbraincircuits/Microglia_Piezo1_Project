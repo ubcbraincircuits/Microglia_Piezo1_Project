{
 "cells": [
  {
   "cell_type": "code",
   "execution_count": 4,
   "metadata": {},
   "outputs": [],
   "source": [
    "import matplotlib.pyplot as plt\n",
    "import os\n",
    "import numpy as np\n",
    "import pandas as pd\n",
    "from ipywidgets import interact, interactive, fixed, interact_manual\n",
    "\n",
    "import functions as mpf\n",
    "import microglia_class as mc\n"
   ]
  },
  {
   "cell_type": "markdown",
   "metadata": {},
   "source": [
    "# Provide a directory of LSM files to analyze"
   ]
  },
  {
   "cell_type": "markdown",
   "metadata": {},
   "source": [
    "\n",
    "Cellpose: a generalist algorithm for cellular segmentation\n",
    "Carsen Stringer, Tim Wang, Michalis Michaelos, Marius Pachitariu\n",
    "bioRxiv 2020.02.02.931238; doi: https://doi.org/10.1101/2020.02.02.931238\n",
    "\n",
    "Jia, H., Rochefort, N. L., Chen, X., & Konnerth, A. (2011).\n",
    "In vivo two-photon imaging of sensory-evoked dendritic calcium signals in cortical neurons.\n",
    "Nature protocols, 6(1), 28.\n",
    "\n",
    "Coleman, P. (2019).\n",
    "pyNeuroTrace. https://github.com/padster/pyNeuroTrace.git\n"
   ]
  },
  {
   "cell_type": "code",
   "execution_count": 5,
   "metadata": {},
   "outputs": [],
   "source": [
    "DATA_DIR = DATA_DIR = \"/home/peter/Downloads/Choi_Ca_Imaging/April 1/\"\n"
   ]
  },
  {
   "cell_type": "code",
   "execution_count": null,
   "metadata": {},
   "outputs": [
    {
     "name": "stdout",
     "output_type": "stream",
     "text": [
      ">>>> using CPU\n",
      "Running test snippet to check if MKL-DNN working\n",
      "see https://pytorch.org/docs/stable/backends.html?highlight=mkl\n",
      "** MKL version working - CPU version is sped up. **\n",
      "processing 1 image(s)\n",
      "time spent: running network 3.53s; flow+mask computation 0.43\n",
      "estimated masks for 1 image(s) in 3.96 sec\n",
      ">>>> TOTAL TIME 3.96 sec\n"
     ]
    }
   ],
   "source": [
    "files = mpf.returnFilePaths(DATA_DIR)\n",
    "microglia_table = pd.DataFrame()\n",
    "microglia_table['Experiments'] = files\n",
    "analyzed  = []\n",
    "for file in files:\n",
    "    analyzed.append(mc.microglia(os.path.join(DATA_DIR,file)))\n",
    "microglia_table['Data'] = analyzed"
   ]
  },
  {
   "cell_type": "markdown",
   "metadata": {},
   "source": [
    "# Inspect ROI and DF/F Traces "
   ]
  },
  {
   "cell_type": "code",
   "execution_count": null,
   "metadata": {
    "scrolled": false
   },
   "outputs": [],
   "source": [
    "def results(Experiment):\n",
    "    data= microglia_table.index[microglia_table['Experiments']==Experiment][0]\n",
    "    microglia_table['Data'][data].inspect_results()\n",
    "interact(results, Experiment=microglia_table['Experiments'])"
   ]
  },
  {
   "cell_type": "code",
   "execution_count": null,
   "metadata": {},
   "outputs": [],
   "source": []
  }
 ],
 "metadata": {
  "kernelspec": {
   "display_name": "Python 3",
   "language": "python",
   "name": "python3"
  },
  "language_info": {
   "codemirror_mode": {
    "name": "ipython",
    "version": 3
   },
   "file_extension": ".py",
   "mimetype": "text/x-python",
   "name": "python",
   "nbconvert_exporter": "python",
   "pygments_lexer": "ipython3",
   "version": "3.8.5"
  }
 },
 "nbformat": 4,
 "nbformat_minor": 2
}
